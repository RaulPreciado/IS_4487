{
  "nbformat": 4,
  "nbformat_minor": 0,
  "metadata": {
    "colab": {
      "provenance": [],
      "authorship_tag": "ABX9TyNFlTb7lVyNRIh0D4l6yOSG",
      "include_colab_link": true
    },
    "kernelspec": {
      "name": "python3",
      "display_name": "Python 3"
    },
    "language_info": {
      "name": "python"
    }
  },
  "cells": [
    {
      "cell_type": "markdown",
      "metadata": {
        "id": "view-in-github",
        "colab_type": "text"
      },
      "source": [
        "<a href=\"https://colab.research.google.com/github/RaulPreciado/IS_4487/blob/main/AdviseInvest.ipynb\" target=\"_parent\"><img src=\"https://colab.research.google.com/assets/colab-badge.svg\" alt=\"Open In Colab\"/></a>"
      ]
    },
    {
      "cell_type": "code",
      "execution_count": 16,
      "metadata": {
        "id": "7vC8VWrxYI3b"
      },
      "outputs": [],
      "source": [
        "import pandas as pd\n",
        "import matplotlib as mpl\n",
        "import numpy as np"
      ]
    },
    {
      "cell_type": "code",
      "source": [
        "from google.colab import drive \n",
        "drive.mount('/content/gdrive', force_remount=True)\n",
        "df = pd.read_csv (r'/adviseinvest.csv')"
      ],
      "metadata": {
        "colab": {
          "base_uri": "https://localhost:8080/"
        },
        "id": "N9GVXE7YYS-b",
        "outputId": "807dd166-f480-442e-b3e6-3cea67aa17b7"
      },
      "execution_count": 17,
      "outputs": [
        {
          "output_type": "stream",
          "name": "stdout",
          "text": [
            "Mounted at /content/gdrive\n"
          ]
        }
      ]
    },
    {
      "cell_type": "code",
      "source": [
        "print(df)"
      ],
      "metadata": {
        "colab": {
          "base_uri": "https://localhost:8080/"
        },
        "id": "rdWceDLHaZaJ",
        "outputId": "8ea61f11-94dc-46d4-9bab-171cb46603c6"
      },
      "execution_count": 18,
      "outputs": [
        {
          "output_type": "stream",
          "name": "stdout",
          "text": [
            "       answered  income  female  age  job  num_dependents  rent  own_res  \\\n",
            "0             1   13520       0   23    0               1     1        0   \n",
            "1             0   14780       0   22    2               1     0        1   \n",
            "2             1   37570       0   62    2               1     0        0   \n",
            "3             0   12450       0   33    2               1     0        1   \n",
            "4             0   12400       0   48    1               2     0        0   \n",
            "...         ...     ...     ...  ...  ...             ...   ...      ...   \n",
            "29499         1   11630       0   44    2               1     0        1   \n",
            "29500         0   28640       0   34    1               2     0        1   \n",
            "29501         1   34480       0   74    1               1     0        1   \n",
            "29502         1   10550       0   30    2               1     0        1   \n",
            "29503         0  125790       0   44    3               1     0        0   \n",
            "\n",
            "       new_car  chk_acct  sav_acct  num_accts  mobile  product  \n",
            "0          0.0         0         2          0       1        2  \n",
            "1          0.0         3         0          3       0        0  \n",
            "2          1.0         3         0          4       0        4  \n",
            "3          0.0         1         0          2       0        0  \n",
            "4          1.0         2         1          4       0        0  \n",
            "...        ...       ...       ...        ...     ...      ...  \n",
            "29499      1.0         3         2          2       0        4  \n",
            "29500      0.0         2         0          2       0        0  \n",
            "29501      0.0         3         0          3       0        4  \n",
            "29502      1.0         3         0          1       0        1  \n",
            "29503      0.0         1         0          4       1        0  \n",
            "\n",
            "[29504 rows x 14 columns]\n"
          ]
        }
      ]
    },
    {
      "cell_type": "code",
      "source": [
        "print(df.head())"
      ],
      "metadata": {
        "colab": {
          "base_uri": "https://localhost:8080/"
        },
        "id": "5CHrZCksZ8uM",
        "outputId": "bdf342ef-ce95-4066-ded3-f050621dd705"
      },
      "execution_count": 19,
      "outputs": [
        {
          "output_type": "stream",
          "name": "stdout",
          "text": [
            "   answered  income  female  age  job  num_dependents  rent  own_res  new_car  \\\n",
            "0         1   13520       0   23    0               1     1        0      0.0   \n",
            "1         0   14780       0   22    2               1     0        1      0.0   \n",
            "2         1   37570       0   62    2               1     0        0      1.0   \n",
            "3         0   12450       0   33    2               1     0        1      0.0   \n",
            "4         0   12400       0   48    1               2     0        0      1.0   \n",
            "\n",
            "   chk_acct  sav_acct  num_accts  mobile  product  \n",
            "0         0         2          0       1        2  \n",
            "1         3         0          3       0        0  \n",
            "2         3         0          4       0        4  \n",
            "3         1         0          2       0        0  \n",
            "4         2         1          4       0        0  \n"
          ]
        }
      ]
    },
    {
      "cell_type": "code",
      "source": [
        "print(df.tail())"
      ],
      "metadata": {
        "colab": {
          "base_uri": "https://localhost:8080/"
        },
        "id": "1WD9k5OJaSr_",
        "outputId": "4777fbbb-c87e-4fda-d39a-e73d07033bea"
      },
      "execution_count": 20,
      "outputs": [
        {
          "output_type": "stream",
          "name": "stdout",
          "text": [
            "       answered  income  female  age  job  num_dependents  rent  own_res  \\\n",
            "29499         1   11630       0   44    2               1     0        1   \n",
            "29500         0   28640       0   34    1               2     0        1   \n",
            "29501         1   34480       0   74    1               1     0        1   \n",
            "29502         1   10550       0   30    2               1     0        1   \n",
            "29503         0  125790       0   44    3               1     0        0   \n",
            "\n",
            "       new_car  chk_acct  sav_acct  num_accts  mobile  product  \n",
            "29499      1.0         3         2          2       0        4  \n",
            "29500      0.0         2         0          2       0        0  \n",
            "29501      0.0         3         0          3       0        4  \n",
            "29502      1.0         3         0          1       0        1  \n",
            "29503      0.0         1         0          4       1        0  \n"
          ]
        }
      ]
    },
    {
      "cell_type": "markdown",
      "source": [
        "##Removing rows containing NAs and filtering others with logical condition"
      ],
      "metadata": {
        "id": "hAyQwD1rZCIE"
      }
    },
    {
      "cell_type": "code",
      "source": [
        "dropNAdf = df.dropna() \n",
        "dropNumAcc = dropNAdf[dropNAdf.num_accts <= 5] \n",
        "dropNumIncome = dropNumAcc[dropNumAcc.income >= 0]"
      ],
      "metadata": {
        "id": "C6L55STNYdnD"
      },
      "execution_count": 21,
      "outputs": []
    },
    {
      "cell_type": "markdown",
      "source": [
        "##Job column code"
      ],
      "metadata": {
        "id": "9MZeMsRzZe9y"
      }
    },
    {
      "cell_type": "code",
      "source": [
        "dropNumIncome.loc[dropNumIncome[\"job\"] == 0, \"job\"] = \"unemployed\"\n",
        "dropNumIncome.loc[dropNumIncome[\"job\"] == 1, \"job\"] = \"entry level position\"\n",
        "dropNumIncome.loc[dropNumIncome[\"job\"] == 2, \"job\"] = \"midlevel position\"\n",
        "dropNumIncome.loc[dropNumIncome[\"job\"] == 3, \"job\"] = \"management/ self-employed/ highly qualified employee/ officer\""
      ],
      "metadata": {
        "colab": {
          "base_uri": "https://localhost:8080/"
        },
        "id": "XFREVcXDYiOU",
        "outputId": "d8f03457-3860-465e-c78c-44139ded4472"
      },
      "execution_count": 22,
      "outputs": [
        {
          "output_type": "stream",
          "name": "stderr",
          "text": [
            "/usr/local/lib/python3.9/dist-packages/pandas/core/indexing.py:1817: SettingWithCopyWarning: \n",
            "A value is trying to be set on a copy of a slice from a DataFrame.\n",
            "Try using .loc[row_indexer,col_indexer] = value instead\n",
            "\n",
            "See the caveats in the documentation: https://pandas.pydata.org/pandas-docs/stable/user_guide/indexing.html#returning-a-view-versus-a-copy\n",
            "  self._setitem_single_column(loc, value, pi)\n"
          ]
        }
      ]
    },
    {
      "cell_type": "markdown",
      "source": [
        "##Product column code"
      ],
      "metadata": {
        "id": "hKM1ZVsCZsyK"
      }
    },
    {
      "cell_type": "code",
      "source": [
        "\n",
        "dropNumIncome.loc[dropNumIncome[\"product\"] == 0, \"product\"] = \"customer did not answer call\"\n",
        "dropNumIncome.loc[dropNumIncome[\"product\"] == 1, \"product\"] = \"customer answered but did not purchase a product\"\n",
        "dropNumIncome.loc[dropNumIncome[\"product\"] == 2, \"product\"] = \"customer answered and purchased Beginner plan\"\n",
        "dropNumIncome.loc[dropNumIncome[\"product\"] == 3, \"product\"] = \"customer answered and purchased Intermediate plan\"\n",
        "dropNumIncome.loc[dropNumIncome[\"product\"] == 4, \"product\"] = \"customer answered and purchased Advanced plan\""
      ],
      "metadata": {
        "id": "f9IwJ1reYzKn"
      },
      "execution_count": 23,
      "outputs": []
    },
    {
      "cell_type": "markdown",
      "source": [
        "##Chk_Acct column code"
      ],
      "metadata": {
        "id": "CGXmjZsKZv7H"
      }
    },
    {
      "cell_type": "code",
      "source": [
        "dropNumIncome.loc[dropNumIncome[\"chk_acct\"] == 0, \"chk_acct\"] = \"no checking account\"\n",
        "dropNumIncome.loc[dropNumIncome[\"chk_acct\"] == 1, \"chk_acct\"] = \"checking < 200 USD\"\n",
        "dropNumIncome.loc[dropNumIncome[\"chk_acct\"] == 2, \"chk_acct\"] = \"200 < checking < 2000 USD\"\n",
        "dropNumIncome.loc[dropNumIncome[\"chk_acct\"] == 3, \"chk_acct\"] = \"2000 < checking < 35000 USD\"\n",
        "dropNumIncome.loc[dropNumIncome[\"chk_acct\"] == 4, \"chk_acct\"] = \"checking >= 3500 USD\""
      ],
      "metadata": {
        "id": "1IkOwewbY1lk"
      },
      "execution_count": 24,
      "outputs": []
    },
    {
      "cell_type": "markdown",
      "source": [
        "##Sav_acct column code"
      ],
      "metadata": {
        "id": "Ib7eQb9pZ3op"
      }
    },
    {
      "cell_type": "code",
      "source": [
        "dropNumIncome.loc[dropNumIncome[\"sav_acct\"] == 0, \"sav_acct\"] = \"no savings account\"\n",
        "dropNumIncome.loc[dropNumIncome[\"sav_acct\"] == 1, \"sav_acct\"] = \"100 <= savings < 500 USD\"\n",
        "dropNumIncome.loc[dropNumIncome[\"sav_acct\"] == 2, \"sav_acct\"] = \"500 <= savings < 2000 USD\"\n",
        "dropNumIncome.loc[dropNumIncome[\"sav_acct\"] == 3, \"sav_acct\"] = \"2000 < savings < 35000 USD\"\n",
        "dropNumIncome.loc[dropNumIncome[\"sav_acct\"] == 4, \"sav_acct\"] = \"savings >= 3500 USD\""
      ],
      "metadata": {
        "id": "1YbrVH8VY6Fs"
      },
      "execution_count": 25,
      "outputs": []
    },
    {
      "cell_type": "code",
      "source": [
        "print(f\"The mean of the column answered is {dropNumIncome['answered'].mean()}\")"
      ],
      "metadata": {
        "colab": {
          "base_uri": "https://localhost:8080/"
        },
        "id": "iRHG9HRRY9Gz",
        "outputId": "c70d9242-2992-4ba8-f6e2-b6d627d99646"
      },
      "execution_count": 26,
      "outputs": [
        {
          "output_type": "stream",
          "name": "stdout",
          "text": [
            "The mean of the column answered is 0.5465947998237228\n"
          ]
        }
      ]
    }
  ]
}